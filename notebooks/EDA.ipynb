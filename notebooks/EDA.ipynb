{
 "cells": [
  {
   "cell_type": "code",
   "execution_count": 3,
   "metadata": {},
   "outputs": [
    {
     "name": "stderr",
     "output_type": "stream",
     "text": [
      "C:\\Users\\user\\AppData\\Local\\Temp\\ipykernel_10568\\3304873248.py:4: UserWarning: Could not infer format, so each element will be parsed individually, falling back to `dateutil`. To ensure parsing is consistent and as-expected, please specify a format.\n",
      "  df = pd.read_csv(r\"C:\\Users\\user\\Projects\\Brent-Oil-Price-Analysis-for-Birhan-Energies\\data\\raw\\BrentOilPrices.csv\", parse_dates=[\"Date\"], dayfirst=True)\n"
     ]
    },
    {
     "name": "stdout",
     "output_type": "stream",
     "text": [
      "        Date  Price\n",
      "0 1987-05-20  18.63\n",
      "1 1987-05-21  18.45\n",
      "2 1987-05-22  18.55\n",
      "3 1987-05-25  18.60\n",
      "4 1987-05-26  18.63\n",
      "Date     0\n",
      "Price    0\n",
      "dtype: int64\n",
      "✅ Data Preprocessing Completed!\n"
     ]
    }
   ],
   "source": [
    "import pandas as pd\n",
    "\n",
    "# Load the dataset (Replace 'brent_oil.csv' with the actual file name)\n",
    "df = pd.read_csv(r\"C:\\Users\\user\\Projects\\Brent-Oil-Price-Analysis-for-Birhan-Energies\\data\\raw\\BrentOilPrices.csv\", parse_dates=[\"Date\"], dayfirst=True)\n",
    "\n",
    "# Display first few rows\n",
    "print(df.head())\n",
    "\n",
    "# Ensure Date column is in proper datetime format\n",
    "df[\"Date\"] = pd.to_datetime(df[\"Date\"], format=\"%d-%b-%y\")\n",
    "\n",
    "# Sort by date in ascending order\n",
    "df = df.sort_values(\"Date\")\n",
    "\n",
    "# Check for missing values\n",
    "print(df.isnull().sum())\n",
    "\n",
    "# Save cleaned data (optional)\n",
    "df.to_csv(\"cleaned_brent_oil.csv\", index=False)\n",
    "\n",
    "print(\"✅ Data Preprocessing Completed!\")\n"
   ]
  },
  {
   "cell_type": "code",
   "execution_count": 5,
   "metadata": {},
   "outputs": [
    {
     "name": "stdout",
     "output_type": "stream",
     "text": [
      "✅ Missing dates handled!\n"
     ]
    }
   ],
   "source": [
    "# Set Date as index\n",
    "df.set_index(\"Date\", inplace=True)\n",
    "\n",
    "# Resample to ensure daily frequency (fill missing dates)\n",
    "df = df.asfreq(\"D\")\n",
    "\n",
    "# Fill missing prices using forward-fill\n",
    "#df[\"Price\"].fillna(method=\"ffill\", inplace=True)\n",
    "df[\"Price\"]=df[\"Price\"].ffill()\n",
    "# Reset index\n",
    "df.reset_index(inplace=True)\n",
    "\n",
    "print(\"✅ Missing dates handled!\")\n"
   ]
  },
  {
   "cell_type": "code",
   "execution_count": null,
   "metadata": {},
   "outputs": [],
   "source": [
    "import matplotlib.pyplot as plt\n",
    "\n",
    "# Plot price trend\n",
    "plt.figure(figsize=(12,6))\n",
    "plt.plot(df[\"Date\"], df[\"Price\"], label=\"Brent Oil Price\", color=\"blue\")\n",
    "plt.xlabel(\"Year\")\n",
    "plt.ylabel(\"Price (USD)\")\n",
    "plt.title(\"Brent Oil Price Over Time\")\n",
    "plt.legend()\n",
    "plt.show()\n"
   ]
  }
 ],
 "metadata": {
  "kernelspec": {
   "display_name": ".venv",
   "language": "python",
   "name": "python3"
  },
  "language_info": {
   "codemirror_mode": {
    "name": "ipython",
    "version": 3
   },
   "file_extension": ".py",
   "mimetype": "text/x-python",
   "name": "python",
   "nbconvert_exporter": "python",
   "pygments_lexer": "ipython3",
   "version": "3.11.9"
  }
 },
 "nbformat": 4,
 "nbformat_minor": 2
}
