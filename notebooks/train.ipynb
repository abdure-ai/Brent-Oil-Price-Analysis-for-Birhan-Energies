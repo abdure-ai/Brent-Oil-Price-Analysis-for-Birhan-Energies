{
 "cells": [
  {
   "cell_type": "code",
   "execution_count": 5,
   "metadata": {},
   "outputs": [
    {
     "name": "stdout",
     "output_type": "stream",
     "text": [
      "Model trained and saved successfully!\n"
     ]
    }
   ],
   "source": [
    "import os\n",
    "import pandas as pd\n",
    "import pickle\n",
    "from sklearn.ensemble import RandomForestRegressor\n",
    "from sklearn.model_selection import train_test_split\n",
    "from sklearn.preprocessing import LabelEncoder\n",
    "\n",
    "# Load Data\n",
    "df = pd.read_csv(r\"C:\\Users\\user\\Projects\\Brent-Oil-Price-Analysis-for-Birhan-Energies\\data\\proecessed\\cleaned_brent_oil.csv\")\n",
    "\n",
    "# Convert Date column to numerical features (Year, Month, Day)\n",
    "df['Date'] = pd.to_datetime(df['Date'])\n",
    "df['Year'] = df['Date'].dt.year\n",
    "df['Month'] = df['Date'].dt.month\n",
    "df['Day'] = df['Date'].dt.day\n",
    "df.drop(columns=['Date'], inplace=True)\n",
    "\n",
    "# Features and Target\n",
    "X = df[['Year', 'Month', 'Day']]\n",
    "y = df['Price']\n",
    "\n",
    "# Train/Test Split\n",
    "X_train, X_test, y_train, y_test = train_test_split(X, y, test_size=0.2, random_state=42)\n",
    "\n",
    "# Train Model\n",
    "model = RandomForestRegressor(n_estimators=100, random_state=42)\n",
    "model.fit(X_train, y_train)\n",
    "\n",
    "# Create directory if it doesn't exist\n",
    "os.makedirs(\"models\", exist_ok=True)\n",
    "\n",
    "# Save Model\n",
    "with open(\"models/model.pkl\", \"wb\") as file:\n",
    "    pickle.dump(model, file)\n",
    "\n",
    "print(\"Model trained and saved successfully!\")"
   ]
  },
  {
   "cell_type": "code",
   "execution_count": 8,
   "metadata": {},
   "outputs": [
    {
     "name": "stdout",
     "output_type": "stream",
     "text": [
      "Predicted Price: 124.91609999999991\n"
     ]
    }
   ],
   "source": [
    "# Load model and test\n",
    "with open(r\"C:\\Users\\user\\Projects\\Brent-Oil-Price-Analysis-for-Birhan-Energies\\models\\model.pkl\", \"rb\") as file:\n",
    "    model = pickle.load(file)\n",
    "\n",
    "# Example Prediction\n",
    "sample_data = pd.DataFrame({'Year': [2035], 'Month': [6], 'Day': [15]})\n",
    "predicted_price = model.predict(sample_data)\n",
    "print(\"Predicted Price:\", predicted_price[0])\n"
   ]
  },
  {
   "cell_type": "code",
   "execution_count": null,
   "metadata": {},
   "outputs": [],
   "source": []
  }
 ],
 "metadata": {
  "kernelspec": {
   "display_name": ".venv",
   "language": "python",
   "name": "python3"
  },
  "language_info": {
   "codemirror_mode": {
    "name": "ipython",
    "version": 3
   },
   "file_extension": ".py",
   "mimetype": "text/x-python",
   "name": "python",
   "nbconvert_exporter": "python",
   "pygments_lexer": "ipython3",
   "version": "3.11.9"
  }
 },
 "nbformat": 4,
 "nbformat_minor": 2
}
